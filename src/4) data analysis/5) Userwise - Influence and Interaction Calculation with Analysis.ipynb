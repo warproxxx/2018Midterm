{
 "cells": [
  {
   "cell_type": "code",
   "execution_count": 1,
   "metadata": {},
   "outputs": [],
   "source": [
    "import pandas as pd\n",
    "import matplotlib.pyplot as plt\n",
    "import seaborn as sns\n",
    "import numpy as np\n",
    "\n",
    "%matplotlib inline\n",
    "plt.style.use('seaborn')\n",
    "#create interaction by user file"
   ]
  },
  {
   "cell_type": "code",
   "execution_count": 2,
   "metadata": {},
   "outputs": [],
   "source": [
    "# df = pd.read_csv('cascade_with_influence.csv')\n",
    "\n",
    "# mm = df.merge(df, left_on='cascade',right_on='ID', suffixes=('_child', '_parent')) #find statistics on type to. How many percentage retweets\n",
    "\n",
    "# def get_userwise_info(x):\n",
    "#     aa = {}\n",
    "#     x = x.sort_values('Time_child')\n",
    "#     size = len(x)\n",
    "    \n",
    "#     one_per = x[:int(size * 0.01)]\n",
    "#     aa['total_one'] = len(one_per)\n",
    "#     aa['one_bots'] = sum(one_per['predicted_child'])\n",
    "    \n",
    "#     five_per = x[:int(size * 0.05)]\n",
    "#     aa['total_five'] = len(five_per)\n",
    "#     aa['five_bots'] = sum(five_per['predicted_child'])\n",
    "    \n",
    "#     fifteen_per = x[:int(size * 0.15)]\n",
    "#     aa['total_fifteen'] = len(fifteen_per)\n",
    "#     aa['fifteen_bots'] = sum(fifteen_per['predicted_child'])\n",
    "    \n",
    "#     twenty_five_per = x[:int(size * 0.25)]\n",
    "#     aa['total_twenty_five'] = len(twenty_five_per)\n",
    "#     aa['twenty_five_bots'] = sum(five_per['predicted_child'])\n",
    "    \n",
    "    \n",
    "#     aa['total_retweeted'] = len(x)\n",
    "#     aa['total_bots'] = sum(x['predicted_child'])\n",
    "#     aa['predicted'] = x['predicted_parent'].iloc[0]\n",
    "#     return pd.Series(aa)\n",
    "\n",
    "# userwise_details = mm[['User_parent', 'predicted_child', 'predicted_parent', 'Time_child']].groupby('User_parent').apply(get_userwise_info)\n",
    "# userwise_details = userwise_details.reset_index().rename(columns={'User_parent':'username'})\n",
    "\n",
    "# def get_total_influence(df):\n",
    "#     curr = {}\n",
    "#     curr['total_tweets'] = len(df)\n",
    "#     curr['total_influence'] = df['influence'].sum()\n",
    "#     curr['predicted'] = df['predicted'].iloc[0]\n",
    "             \n",
    "#     return pd.Series(curr)\n",
    "\n",
    "# userwise_influence = df[['User', 'influence', 'predicted']].groupby('User').apply(get_total_influence)\n",
    "# userwise_influence = userwise_influence.reset_index().rename(columns={'User':'username'})\n",
    "\n",
    "# userwise_influence.to_csv('data/userwise_influence.csv', index=None)\n",
    "# userwise_details.to_csv('data/userwise_details.csv', index=None)\n",
    "\n",
    "# combined = userwise_influence.merge(userwise_details[['username', 'total_bots', 'total_retweeted', 'one_bots', 'total_one','five_bots', 'total_five', 'fifteen_bots', 'total_fifteen', 'twenty_five_bots', 'total_twenty_five']], how='left', on='username')\n",
    "\n",
    "# combined = combined.fillna(0)\n",
    "\n",
    "# combined['total_humans'] = combined['total_retweeted'] - combined['total_bots']\n",
    "\n",
    "# combined.to_csv('complete_userinfo.csv', index=None)"
   ]
  },
  {
   "cell_type": "code",
   "execution_count": 4,
   "metadata": {},
   "outputs": [],
   "source": [
    "complete_userinfo  = pd.read_csv('complete_userinfo.csv')"
   ]
  },
  {
   "cell_type": "code",
   "execution_count": 5,
   "metadata": {},
   "outputs": [
    {
     "data": {
      "text/html": [
       "<div>\n",
       "<style scoped>\n",
       "    .dataframe tbody tr th:only-of-type {\n",
       "        vertical-align: middle;\n",
       "    }\n",
       "\n",
       "    .dataframe tbody tr th {\n",
       "        vertical-align: top;\n",
       "    }\n",
       "\n",
       "    .dataframe thead th {\n",
       "        text-align: right;\n",
       "    }\n",
       "</style>\n",
       "<table border=\"1\" class=\"dataframe\">\n",
       "  <thead>\n",
       "    <tr style=\"text-align: right;\">\n",
       "      <th></th>\n",
       "      <th>username</th>\n",
       "      <th>predicted</th>\n",
       "      <th>total_influence</th>\n",
       "      <th>total_tweets</th>\n",
       "      <th>total_bots</th>\n",
       "      <th>total_retweeted</th>\n",
       "      <th>one_bots</th>\n",
       "      <th>total_one</th>\n",
       "      <th>five_bots</th>\n",
       "      <th>total_five</th>\n",
       "      <th>fifteen_bots</th>\n",
       "      <th>total_fifteen</th>\n",
       "      <th>twenty_five_bots</th>\n",
       "      <th>total_twenty_five</th>\n",
       "      <th>total_humans</th>\n",
       "    </tr>\n",
       "  </thead>\n",
       "  <tbody>\n",
       "    <tr>\n",
       "      <th>1048041</th>\n",
       "      <td>realdonaldtrump</td>\n",
       "      <td>0.0</td>\n",
       "      <td>239208.999283</td>\n",
       "      <td>97.0</td>\n",
       "      <td>33866.0</td>\n",
       "      <td>229072.0</td>\n",
       "      <td>369.0</td>\n",
       "      <td>2290.0</td>\n",
       "      <td>1709.0</td>\n",
       "      <td>11453.0</td>\n",
       "      <td>5138.0</td>\n",
       "      <td>34360.0</td>\n",
       "      <td>1709.0</td>\n",
       "      <td>57268.0</td>\n",
       "      <td>195206.0</td>\n",
       "    </tr>\n",
       "  </tbody>\n",
       "</table>\n",
       "</div>"
      ],
      "text/plain": [
       "                username  predicted  total_influence  total_tweets  \\\n",
       "1048041  realdonaldtrump        0.0    239208.999283          97.0   \n",
       "\n",
       "         total_bots  total_retweeted  one_bots  total_one  five_bots  \\\n",
       "1048041     33866.0         229072.0     369.0     2290.0     1709.0   \n",
       "\n",
       "         total_five  fifteen_bots  total_fifteen  twenty_five_bots  \\\n",
       "1048041     11453.0        5138.0        34360.0            1709.0   \n",
       "\n",
       "         total_twenty_five  total_humans  \n",
       "1048041            57268.0      195206.0  "
      ]
     },
     "execution_count": 5,
     "metadata": {},
     "output_type": "execute_result"
    }
   ],
   "source": [
    "complete_userinfo[complete_userinfo['username'] == 'realdonaldtrump']"
   ]
  },
  {
   "cell_type": "code",
   "execution_count": 6,
   "metadata": {},
   "outputs": [],
   "source": [
    "total_retweeted = sum(complete_userinfo['total_retweeted'])"
   ]
  },
  {
   "cell_type": "code",
   "execution_count": 7,
   "metadata": {},
   "outputs": [],
   "source": [
    "bots = complete_userinfo[complete_userinfo['predicted'] == 1]"
   ]
  },
  {
   "cell_type": "code",
   "execution_count": 8,
   "metadata": {},
   "outputs": [],
   "source": [
    "humans = complete_userinfo[complete_userinfo['predicted'] == 0]"
   ]
  },
  {
   "cell_type": "code",
   "execution_count": 12,
   "metadata": {},
   "outputs": [
    {
     "data": {
      "text/plain": [
       "21.906128405799922"
      ]
     },
     "execution_count": 12,
     "metadata": {},
     "output_type": "execute_result"
    }
   ],
   "source": [
    "sum(bots['total_influence'])/sum(complete_userinfo['total_influence']) * 100"
   ]
  },
  {
   "cell_type": "code",
   "execution_count": 86,
   "metadata": {},
   "outputs": [
    {
     "data": {
      "text/plain": [
       "2.8730027683160015"
      ]
     },
     "execution_count": 86,
     "metadata": {},
     "output_type": "execute_result"
    }
   ],
   "source": [
    "(sum(bots['total_bots']/total_retweeted)) * 100 #bots retweeted by bots"
   ]
  },
  {
   "cell_type": "code",
   "execution_count": 87,
   "metadata": {},
   "outputs": [
    {
     "data": {
      "text/plain": [
       "120231.0"
      ]
     },
     "execution_count": 87,
     "metadata": {},
     "output_type": "execute_result"
    }
   ],
   "source": [
    "sum(bots['total_bots'])"
   ]
  },
  {
   "cell_type": "code",
   "execution_count": 88,
   "metadata": {},
   "outputs": [
    {
     "data": {
      "text/plain": [
       "6.341318874848061"
      ]
     },
     "execution_count": 88,
     "metadata": {},
     "output_type": "execute_result"
    }
   ],
   "source": [
    "(sum(bots['total_humans']/total_retweeted)) * 100 #bots retweeted by humans"
   ]
  },
  {
   "cell_type": "code",
   "execution_count": 89,
   "metadata": {},
   "outputs": [
    {
     "data": {
      "text/plain": [
       "265375.0"
      ]
     },
     "execution_count": 89,
     "metadata": {},
     "output_type": "execute_result"
    }
   ],
   "source": [
    "sum(bots['total_humans'])"
   ]
  },
  {
   "cell_type": "code",
   "execution_count": 90,
   "metadata": {},
   "outputs": [
    {
     "data": {
      "text/plain": [
       "9.140890186162123"
      ]
     },
     "execution_count": 90,
     "metadata": {},
     "output_type": "execute_result"
    }
   ],
   "source": [
    "(sum(humans['total_bots']/total_retweeted)) * 100 #humans retweeted by humans"
   ]
  },
  {
   "cell_type": "code",
   "execution_count": 91,
   "metadata": {},
   "outputs": [
    {
     "data": {
      "text/plain": [
       "382533.0"
      ]
     },
     "execution_count": 91,
     "metadata": {},
     "output_type": "execute_result"
    }
   ],
   "source": [
    "sum(humans['total_bots'])"
   ]
  },
  {
   "cell_type": "code",
   "execution_count": 92,
   "metadata": {},
   "outputs": [
    {
     "data": {
      "text/plain": [
       "81.64478817066482"
      ]
     },
     "execution_count": 92,
     "metadata": {},
     "output_type": "execute_result"
    }
   ],
   "source": [
    "(sum(humans['total_humans']/total_retweeted)) * 100 #bots retweeted by humans"
   ]
  },
  {
   "cell_type": "code",
   "execution_count": 93,
   "metadata": {},
   "outputs": [
    {
     "data": {
      "text/plain": [
       "3416716.0"
      ]
     },
     "execution_count": 93,
     "metadata": {},
     "output_type": "execute_result"
    }
   ],
   "source": [
    "sum(humans['total_humans'])"
   ]
  },
  {
   "cell_type": "code",
   "execution_count": null,
   "metadata": {},
   "outputs": [],
   "source": []
  },
  {
   "cell_type": "code",
   "execution_count": 94,
   "metadata": {},
   "outputs": [
    {
     "name": "stderr",
     "output_type": "stream",
     "text": [
      "/home/warproxxx/anaconda3/envs/meta_analyse/lib/python3.5/site-packages/ipykernel/__main__.py:1: SettingWithCopyWarning: \n",
      "A value is trying to be set on a copy of a slice from a DataFrame.\n",
      "Try using .loc[row_indexer,col_indexer] = value instead\n",
      "\n",
      "See the caveats in the documentation: http://pandas.pydata.org/pandas-docs/stable/indexing.html#indexing-view-versus-copy\n",
      "  if __name__ == '__main__':\n"
     ]
    }
   ],
   "source": [
    "bots['human_percentage'] = (bots['total_humans']/bots['total_retweeted'])*100"
   ]
  },
  {
   "cell_type": "code",
   "execution_count": 145,
   "metadata": {},
   "outputs": [
    {
     "name": "stderr",
     "output_type": "stream",
     "text": [
      "/home/warproxxx/anaconda3/envs/meta_analyse/lib/python3.5/site-packages/ipykernel/__main__.py:2: SettingWithCopyWarning: \n",
      "A value is trying to be set on a copy of a slice from a DataFrame.\n",
      "Try using .loc[row_indexer,col_indexer] = value instead\n",
      "\n",
      "See the caveats in the documentation: http://pandas.pydata.org/pandas-docs/stable/indexing.html#indexing-view-versus-copy\n",
      "  from ipykernel import kernelapp as app\n",
      "/home/warproxxx/anaconda3/envs/meta_analyse/lib/python3.5/site-packages/ipykernel/__main__.py:5: SettingWithCopyWarning: \n",
      "A value is trying to be set on a copy of a slice from a DataFrame.\n",
      "Try using .loc[row_indexer,col_indexer] = value instead\n",
      "\n",
      "See the caveats in the documentation: http://pandas.pydata.org/pandas-docs/stable/indexing.html#indexing-view-versus-copy\n"
     ]
    }
   ],
   "source": [
    "labels = ['0-10', '10-100', '100-500', '500-1k', '1k-3k', '3k-7k']\n",
    "bots['interval'] = pd.cut(bots['total_retweeted'], [0, 10, 100, 500, 1000, 3000, 7000], labels=labels)\n",
    "\n",
    "new_labels = ['0-10', '10-100', '100-500', '500-1k', '1k-3k', '3k-7k', '7k-30k', '>30k']\n",
    "humans['interval'] = pd.cut(humans['total_retweeted'], [0, 10, 100, 500, 1000, 3000, 7000, 30000, 1000000], labels=new_labels)"
   ]
  },
  {
   "cell_type": "code",
   "execution_count": 97,
   "metadata": {
    "scrolled": true
   },
   "outputs": [
    {
     "data": {
      "text/plain": [
       "0-10       7366\n",
       "10-100     1968\n",
       "100-500     482\n",
       "500-1k       96\n",
       "1k-3k        57\n",
       "3k-7k         6\n",
       "Name: interval, dtype: int64"
      ]
     },
     "execution_count": 97,
     "metadata": {},
     "output_type": "execute_result"
    }
   ],
   "source": [
    "bots['interval'].value_counts()"
   ]
  },
  {
   "cell_type": "code",
   "execution_count": 109,
   "metadata": {},
   "outputs": [
    {
     "data": {
      "text/plain": [
       "0-10       67454\n",
       "10-100     12915\n",
       "100-500     2017\n",
       "500-1k       411\n",
       "1k-3k        372\n",
       "3k-7k        112\n",
       "7k-30k        70\n",
       ">30k           7\n",
       "Name: interval, dtype: int64"
      ]
     },
     "execution_count": 109,
     "metadata": {},
     "output_type": "execute_result"
    }
   ],
   "source": [
    "humans['interval'].value_counts()"
   ]
  },
  {
   "cell_type": "code",
   "execution_count": 113,
   "metadata": {},
   "outputs": [],
   "source": [
    "def get_averages(df):\n",
    "    ret = {}\n",
    "    ret['human_average'] = df['total_humans'].mean()\n",
    "    ret['bot_average'] = df['total_bots'].mean()\n",
    "    \n",
    "    greater = df[df['total_five'] > 0]\n",
    "    greater['one_percentage'] = (greater['one_bots'] / greater['total_one']) * 100\n",
    "    greater['five_percentage'] = (greater['five_bots'] / greater['total_five']) * 100\n",
    "    greater['fifteen_percentage'] = (greater['fifteen_bots'] / greater['total_fifteen']) * 100\n",
    "    greater['twenty_five_percentage'] = (greater['twenty_five_bots'] / greater['total_twenty_five']) * 100\n",
    "    \n",
    "    ret['one_bots_average'] = greater['one_percentage'].mean()\n",
    "    ret['five_bots_average'] = greater['five_percentage'].mean()\n",
    "    ret['fifteen_bots_average'] = greater['fifteen_percentage'].mean()\n",
    "    ret['twenty_five_bots_average'] = greater['twenty_five_percentage'].mean()\n",
    "    \n",
    "    return pd.Series(ret)\n",
    "\n",
    "bots_plot_info = bots.groupby('interval').apply(get_averages)\n",
    "humans_plot_info = humans.groupby('interval').apply(get_averages)"
   ]
  },
  {
   "cell_type": "code",
   "execution_count": 114,
   "metadata": {},
   "outputs": [],
   "source": [
    "bots_plot_info['bot_percentage'] = (bots_plot_info['bot_average'] / (bots_plot_info['bot_average'] + bots_plot_info['human_average'])) * 100\n",
    "bots_plot_info['human_percentage'] = 100 - bots_plot_info['bot_percentage']"
   ]
  },
  {
   "cell_type": "code",
   "execution_count": 116,
   "metadata": {},
   "outputs": [
    {
     "data": {
      "text/html": [
       "<div>\n",
       "<style scoped>\n",
       "    .dataframe tbody tr th:only-of-type {\n",
       "        vertical-align: middle;\n",
       "    }\n",
       "\n",
       "    .dataframe tbody tr th {\n",
       "        vertical-align: top;\n",
       "    }\n",
       "\n",
       "    .dataframe thead th {\n",
       "        text-align: right;\n",
       "    }\n",
       "</style>\n",
       "<table border=\"1\" class=\"dataframe\">\n",
       "  <thead>\n",
       "    <tr style=\"text-align: right;\">\n",
       "      <th></th>\n",
       "      <th>bot_average</th>\n",
       "      <th>fifteen_bots_average</th>\n",
       "      <th>five_bots_average</th>\n",
       "      <th>human_average</th>\n",
       "      <th>one_bots_average</th>\n",
       "      <th>twenty_five_bots_average</th>\n",
       "      <th>bot_percentage</th>\n",
       "      <th>human_percentage</th>\n",
       "    </tr>\n",
       "    <tr>\n",
       "      <th>interval</th>\n",
       "      <th></th>\n",
       "      <th></th>\n",
       "      <th></th>\n",
       "      <th></th>\n",
       "      <th></th>\n",
       "      <th></th>\n",
       "      <th></th>\n",
       "      <th></th>\n",
       "    </tr>\n",
       "  </thead>\n",
       "  <tbody>\n",
       "    <tr>\n",
       "      <th>0-10</th>\n",
       "      <td>1.707983</td>\n",
       "      <td>NaN</td>\n",
       "      <td>NaN</td>\n",
       "      <td>1.834781</td>\n",
       "      <td>NaN</td>\n",
       "      <td>NaN</td>\n",
       "      <td>48.210454</td>\n",
       "      <td>51.789546</td>\n",
       "    </tr>\n",
       "    <tr>\n",
       "      <th>10-100</th>\n",
       "      <td>11.863313</td>\n",
       "      <td>51.630267</td>\n",
       "      <td>78.289136</td>\n",
       "      <td>20.109248</td>\n",
       "      <td>83.333333</td>\n",
       "      <td>12.969373</td>\n",
       "      <td>37.104669</td>\n",
       "      <td>62.895331</td>\n",
       "    </tr>\n",
       "    <tr>\n",
       "      <th>100-500</th>\n",
       "      <td>72.900415</td>\n",
       "      <td>38.523577</td>\n",
       "      <td>44.753065</td>\n",
       "      <td>148.365145</td>\n",
       "      <td>78.786307</td>\n",
       "      <td>8.582068</td>\n",
       "      <td>32.947023</td>\n",
       "      <td>67.052977</td>\n",
       "    </tr>\n",
       "    <tr>\n",
       "      <th>500-1k</th>\n",
       "      <td>207.604167</td>\n",
       "      <td>33.515110</td>\n",
       "      <td>37.106784</td>\n",
       "      <td>504.718750</td>\n",
       "      <td>47.847636</td>\n",
       "      <td>7.326317</td>\n",
       "      <td>29.144670</td>\n",
       "      <td>70.855330</td>\n",
       "    </tr>\n",
       "    <tr>\n",
       "      <th>1k-3k</th>\n",
       "      <td>416.736842</td>\n",
       "      <td>29.592145</td>\n",
       "      <td>31.890843</td>\n",
       "      <td>1173.315789</td>\n",
       "      <td>39.362098</td>\n",
       "      <td>6.336524</td>\n",
       "      <td>26.208997</td>\n",
       "      <td>73.791003</td>\n",
       "    </tr>\n",
       "    <tr>\n",
       "      <th>3k-7k</th>\n",
       "      <td>913.500000</td>\n",
       "      <td>20.398652</td>\n",
       "      <td>21.098052</td>\n",
       "      <td>4240.166667</td>\n",
       "      <td>24.077097</td>\n",
       "      <td>4.217306</td>\n",
       "      <td>17.725244</td>\n",
       "      <td>82.274756</td>\n",
       "    </tr>\n",
       "  </tbody>\n",
       "</table>\n",
       "</div>"
      ],
      "text/plain": [
       "          bot_average  fifteen_bots_average  five_bots_average  human_average  \\\n",
       "interval                                                                        \n",
       "0-10         1.707983                   NaN                NaN       1.834781   \n",
       "10-100      11.863313             51.630267          78.289136      20.109248   \n",
       "100-500     72.900415             38.523577          44.753065     148.365145   \n",
       "500-1k     207.604167             33.515110          37.106784     504.718750   \n",
       "1k-3k      416.736842             29.592145          31.890843    1173.315789   \n",
       "3k-7k      913.500000             20.398652          21.098052    4240.166667   \n",
       "\n",
       "          one_bots_average  twenty_five_bots_average  bot_percentage  \\\n",
       "interval                                                               \n",
       "0-10                   NaN                       NaN       48.210454   \n",
       "10-100           83.333333                 12.969373       37.104669   \n",
       "100-500          78.786307                  8.582068       32.947023   \n",
       "500-1k           47.847636                  7.326317       29.144670   \n",
       "1k-3k            39.362098                  6.336524       26.208997   \n",
       "3k-7k            24.077097                  4.217306       17.725244   \n",
       "\n",
       "          human_percentage  \n",
       "interval                    \n",
       "0-10             51.789546  \n",
       "10-100           62.895331  \n",
       "100-500          67.052977  \n",
       "500-1k           70.855330  \n",
       "1k-3k            73.791003  \n",
       "3k-7k            82.274756  "
      ]
     },
     "execution_count": 116,
     "metadata": {},
     "output_type": "execute_result"
    }
   ],
   "source": [
    "bots_plot_info"
   ]
  },
  {
   "cell_type": "code",
   "execution_count": 115,
   "metadata": {},
   "outputs": [],
   "source": [
    "humans_plot_info['bot_percentage'] = (humans_plot_info['bot_average'] / (humans_plot_info['bot_average'] + humans_plot_info['human_average'])) * 100\n",
    "humans_plot_info['human_percentage'] = 100 - humans_plot_info['bot_percentage']"
   ]
  },
  {
   "cell_type": "code",
   "execution_count": 121,
   "metadata": {},
   "outputs": [],
   "source": [
    "h_plot = humans_plot_info[['one_bots_average', 'five_bots_average', 'fifteen_bots_average', 'twenty_five_bots_average', 'bot_percentage']]"
   ]
  },
  {
   "cell_type": "code",
   "execution_count": 122,
   "metadata": {},
   "outputs": [],
   "source": [
    "b_plot = bots_plot_info[['one_bots_average', 'five_bots_average', 'fifteen_bots_average', 'twenty_five_bots_average', 'bot_percentage']]"
   ]
  },
  {
   "cell_type": "code",
   "execution_count": 130,
   "metadata": {},
   "outputs": [],
   "source": [
    "plotting = h_plot.add_prefix('humans_').merge(b_plot.add_prefix('bots_'), on='interval', how='left').replace(np.nan, 0)"
   ]
  },
  {
   "cell_type": "code",
   "execution_count": 159,
   "metadata": {},
   "outputs": [
    {
     "name": "stdout",
     "output_type": "stream",
     "text": [
      "[0 1 2 3 4 5 6 7]\n",
      "[0.2, 1.2, 2.2, 3.2, 4.2, 5.2, 6.2, 7.2]\n",
      "[0.6000000000000001, 1.5999999999999999, 2.6000000000000005, 3.6000000000000005, 4.6000000000000005, 5.6000000000000005, 6.6000000000000005, 7.6000000000000005]\n",
      "[0.8, 1.7999999999999998, 2.8000000000000007, 3.8000000000000007, 4.800000000000001, 5.800000000000001, 6.800000000000001, 7.800000000000001]\n"
     ]
    }
   ],
   "source": [
    "print(r1)\n",
    "print(r2)\n",
    "print(r3)\n",
    "print(r4)"
   ]
  },
  {
   "cell_type": "code",
   "execution_count": 226,
   "metadata": {},
   "outputs": [
    {
     "data": {
      "image/png": "[encoded data removed]",
      "text/plain": [
       "<Figure size 1080x720 with 4 Axes>"
      ]
     },
     "metadata": {},
     "output_type": "display_data"
    }
   ],
   "source": [
    "fig, axList = plt.subplots(2,2, figsize=(15,10))\n",
    "\n",
    "width = 0.3\n",
    "count = 0\n",
    "percentages = ['one', 'five', 'fifteen', 'twenty_five']\n",
    "\n",
    "for axs in axList:\n",
    "    for ax in axs:\n",
    "        \n",
    "        ax.set_ylabel('Average percentage of Retweets by Bots')\n",
    "        ax.set_xlabel('Retweets Received')\n",
    "        ax.set_title('During the first {} percentage of the Retweets'.format(percentages[count]))\n",
    "        \n",
    "        bars1 = plotting['bots_{}_bots_average'.format(percentages[count])].values\n",
    "        bars2 = plotting['humans_{}_bots_average'.format(percentages[count])].values\n",
    "\n",
    "        r1 = np.arange(len(bars1)) * 2\n",
    "        r2 = [x + width for x in r1]\n",
    "\n",
    "        p1 = ax.bar(r1, bars1, width, edgecolor='white', label='Bots')\n",
    "        p2 = ax.bar(r2, bars2, width, edgecolor='white', label='Humans')\n",
    "\n",
    "        ax.set_xticks(r1)\n",
    "        ax.set_xticklabels(new_labels)\n",
    "        \n",
    "        if count == 2:\n",
    "            a = ax.set_yticks([0,5,10,15,20,25,30,50])\n",
    "        elif count == 3:\n",
    "            a = ax.set_yticks([0,5,10,15])\n",
    "        else:\n",
    "            a = ax.set_yticks([0,5,10,15,20,25,30,50,70,90])\n",
    "\n",
    "        count += 1\n",
    "\n",
    "fig.subplots_adjust(wspace=0.3, hspace = 0.4)\n",
    "fig.legend((p1[0], p2[0]), ('Bot', 'Human'), loc=9)\n",
    "fig.savefig('../../writeup/images/bot_humans_retweet_percentages.png') #maybe add 5, 15 an 25 bot averages too"
   ]
  },
  {
   "cell_type": "code",
   "execution_count": null,
   "metadata": {},
   "outputs": [],
   "source": []
  },
  {
   "cell_type": "code",
   "execution_count": null,
   "metadata": {},
   "outputs": [],
   "source": [
    "#create a chart for this too.Make one for humans too and then create a chart"
   ]
  },
  {
   "cell_type": "code",
   "execution_count": 233,
   "metadata": {},
   "outputs": [
    {
     "data": {
      "image/png": "[encoded data removed]",
      "text/plain": [
       "<Figure size 1080x720 with 1 Axes>"
      ]
     },
     "metadata": {},
     "output_type": "display_data"
    }
   ],
   "source": [
    "width = 0.5\n",
    "\n",
    "curr_bots = bots_plot_info['bot_percentage'].values\n",
    "curr_humans = bots_plot_info['human_percentage'].values\n",
    "idx = np.arange(len(curr_humans))\n",
    "\n",
    "\n",
    "fig, ax = plt.subplots(figsize=(15,10))\n",
    "\n",
    "\n",
    "p1 = ax.bar(idx, curr_bots, width)\n",
    "p2 = ax.bar(idx, curr_humans, width, bottom=curr_bots)\n",
    "ax.set_ylabel('Average Retweet/Replies Perentage and Amount')\n",
    "ax.set_xlabel('Retweets Received')\n",
    "ax.set_title('Bot Parents - Further Retweeted by Bots VS Human')\n",
    "ax.set_xticks(idx)\n",
    "ax.set_xticklabels(labels)\n",
    "ax.set_yticks([0,5,10,15,20,25,30,50,70,90])\n",
    "\n",
    "\n",
    "for j, i in enumerate(np.arange(-0.1, 5.9, 1)):\n",
    "    ax.text(i, 60, round(bots_plot_info.iloc[j]['human_average'], 2), color='black')\n",
    "    ax.text(i, 10, round(bots_plot_info.iloc[j]['bot_average'], 2), color='black')\n",
    "\n",
    "ax.legend((p1[0], p2[0]), ('Bot', 'Human'), loc=9)\n",
    "fig.savefig('../../writeup/images/bots_furtherretweeted.png')"
   ]
  },
  {
   "cell_type": "code",
   "execution_count": 237,
   "metadata": {},
   "outputs": [
    {
     "data": {
      "image/png": "[encoded data removed]",
      "text/plain": [
       "<Figure size 1080x720 with 1 Axes>"
      ]
     },
     "metadata": {},
     "output_type": "display_data"
    }
   ],
   "source": [
    "width = 0.5\n",
    "\n",
    "curr_bots = humans_plot_info['bot_percentage'].values\n",
    "curr_humans = humans_plot_info['human_percentage'].values\n",
    "idx = np.arange(len(curr_humans))\n",
    "\n",
    "\n",
    "fig, ax = plt.subplots(figsize=(15,10))\n",
    "\n",
    "\n",
    "p1 = ax.bar(idx, curr_bots, width)\n",
    "p2 = ax.bar(idx, curr_humans, width, bottom=curr_bots)\n",
    "ax.set_ylabel('Average Retweet/Replies Perentage and Amount')\n",
    "ax.set_xlabel('Retweets Received')\n",
    "ax.set_title('Human Parents - Further Retweeted by Bots VS Human')\n",
    "ax.set_xticks(idx)\n",
    "ax.set_xticklabels(new_labels)\n",
    "ax.set_yticks([0,5,10,15,20,25,30,50,70,90])\n",
    "\n",
    "\n",
    "for j, i in enumerate(np.arange(-0.2, 7.8, 1)):\n",
    "    ax.text(i, 50, round(humans_plot_info.iloc[j]['human_average'], 2), color='black')\n",
    "    ax.text(i, 3, round(humans_plot_info.iloc[j]['bot_average'], 2), color='black')\n",
    "\n",
    "ax.legend((p1[0], p2[0]), ('Bot', 'Human'), loc=9)\n",
    "fig.savefig('../../writeup/images/humans_furtherretweeted.png')"
   ]
  },
  {
   "cell_type": "code",
   "execution_count": null,
   "metadata": {},
   "outputs": [],
   "source": []
  },
  {
   "cell_type": "code",
   "execution_count": null,
   "metadata": {},
   "outputs": [],
   "source": []
  }
 ],
 "metadata": {
  "kernelspec": {
   "display_name": "Python [conda env:meta_analyse]",
   "language": "python",
   "name": "conda-env-meta_analyse-py"
  },
  "language_info": {
   "codemirror_mode": {
    "name": "ipython",
    "version": 3
   },
   "file_extension": ".py",
   "mimetype": "text/x-python",
   "name": "python",
   "nbconvert_exporter": "python",
   "pygments_lexer": "ipython3",
   "version": "3.5.6"
  }
 },
 "nbformat": 4,
 "nbformat_minor": 2
}
