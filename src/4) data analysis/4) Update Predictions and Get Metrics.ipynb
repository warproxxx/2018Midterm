{
 "cells": [
  {
   "cell_type": "code",
   "execution_count": 1,
   "metadata": {},
   "outputs": [],
   "source": [
    "import pandas as pd\n",
    "import numpy as np\n",
    "from glob import glob\n",
    "import math"
   ]
  },
  {
   "cell_type": "code",
   "execution_count": 2,
   "metadata": {},
   "outputs": [],
   "source": [
    "profiles = pd.read_csv('../bot_detection/profiles_with_bot_or_not.csv')\n",
    "profiles = profiles.drop('followers_count', axis=1)"
   ]
  },
  {
   "cell_type": "code",
   "execution_count": 3,
   "metadata": {},
   "outputs": [],
   "source": [
    "def update_predictions(df, profiles, user_column):            \n",
    "    cols = list(df.columns)\n",
    "    cols.remove('predicted')\n",
    "    cols.append('predicted_x')\n",
    "    cols.append('predicted_y')\n",
    "\n",
    "    df = df.merge(profiles,left_on=user_column, right_on='username')[cols]\n",
    "        \n",
    "    print(sum(df['predicted_x'] == df['predicted_y'])/len(df))\n",
    "    \n",
    "    df = df.drop('predicted_x', axis=1)\n",
    "    df = df.rename(columns={'predicted_y': 'predicted'})\n",
    "    return df"
   ]
  },
  {
   "cell_type": "code",
   "execution_count": 6,
   "metadata": {},
   "outputs": [],
   "source": [
    "# for file in glob('data/*'):\n",
    "#     cascade = pd.read_csv(file)\n",
    "#     cascade = update_predictions(cascade, profiles, 'User')\n",
    "#     cascade.to_csv(file, index=None)\n",
    "\n",
    "files = [\"cascade_with_influence.csv\"]\n",
    "\n",
    "# for file in files:\n",
    "#     df = pd.read_csv(file)\n",
    "#     df = update_predictions(df, profiles, 'user_id')\n",
    "#     df.to_csv(file, index=None)"
   ]
  },
  {
   "cell_type": "code",
   "execution_count": 7,
   "metadata": {},
   "outputs": [],
   "source": [
    "df = pd.read_csv(files[0])\n",
    "colname = 'cascade'"
   ]
  },
  {
   "cell_type": "code",
   "execution_count": 8,
   "metadata": {},
   "outputs": [],
   "source": [
    "def get_percentage_of_post(df, percentage):\n",
    "    return df[:math.ceil(df.shape[0] * (percentage/100))]\n",
    "\n",
    "def get_info(df):\n",
    "    global colname\n",
    "    dic = {}\n",
    "    \n",
    "    dic['size'] = len(df)\n",
    "    \n",
    "    if dic['size'] > 0:\n",
    "        dic['id'] = df[colname].values[0]\n",
    "        df['SentiStrength'] = df['Positive'] - df['Negative']\n",
    "        \n",
    "        humans = df[df['predicted'] == 0]\n",
    "        bots = df[df['predicted'] == 1]\n",
    "        dic['bot_percentage'] = len(bots)/dic['size']\n",
    "\n",
    "        dic['humans_count'] = len(humans)\n",
    "        dic['bots_count'] = len(bots)\n",
    "\n",
    "        dic['influence_mean'] = df['influence'].mean()\n",
    "        dic['bots_influence_mean'] = bots['influence'].mean()\n",
    "        dic['humans_influence_mean'] = humans['influence'].mean()\n",
    "\n",
    "        dic['influence_std'] = df['influence'].std()\n",
    "        dic['bots_influence_std'] = bots['influence'].std()\n",
    "        dic['humans_influence_std'] = humans['influence'].std()\n",
    "        \n",
    "        \n",
    "        percentages = [5, 10, 25]\n",
    "        \n",
    "        for percentage in percentages:\n",
    "            t_df = get_percentage_of_post(df, percentage)\n",
    "            humans = t_df[t_df['predicted'] == 0]\n",
    "            bots = t_df[t_df['predicted'] == 1]\n",
    "            dic['bot_percentage_{}'.format(percentage)] = len(bots)/len(t_df)\n",
    "\n",
    "            dic['humans_count_{}'.format(percentage)] = len(humans)\n",
    "            dic['bots_count_{}'.format(percentage)] = len(bots)\n",
    "\n",
    "            dic['influence_mean_{}'.format(percentage)] = t_df['influence'].mean()\n",
    "            dic['bots_influence_mean_{}'.format(percentage)] = bots['influence'].mean()\n",
    "            dic['humans_influence_mean_{}'.format(percentage)] = humans['influence'].mean()\n",
    "\n",
    "            dic['influence_std_{}'.format(percentage)] = t_df['influence'].std()\n",
    "            dic['bots_influence_std_{}'.format(percentage)] = bots['influence'].std()\n",
    "            dic['humans_influence_std_{}'.format(percentage)] = humans['influence'].std()\n",
    "        \n",
    "\n",
    "#         dic['vader_mean'] = df['vader_emotion'].mean()\n",
    "#         dic['bots_vader_mean'] = bots['vader_emotion'].mean()\n",
    "#         dic['humans_vader_mean'] = humans['vader_emotion'].mean()\n",
    "\n",
    "#         dic['vader_std'] = df['vader_emotion'].std()\n",
    "#         dic['bots_vader_std'] = bots['vader_emotion'].std()\n",
    "#         dic['humans_vader_std'] = humans['vader_emotion'].std()\n",
    "\n",
    "#         dic['polarity_mean'] = df['polarity'].mean()\n",
    "#         dic['bots_polarity_mean'] = bots['polarity'].mean()\n",
    "#         dic['humans_polarity_mean'] = humans['polarity'].mean()\n",
    "\n",
    "#         dic['polarity_std'] = df['polarity'].std()\n",
    "#         dic['bots_polarity_std'] = bots['polarity'].std()\n",
    "#         dic['humans_polarity_std'] = humans['polarity'].std()\n",
    "\n",
    "#         dic['subjectivity_mean'] = df['subjectivity'].mean()\n",
    "#         dic['bots_subjectivity_mean'] = bots['subjectivity'].mean()\n",
    "#         dic['humans_subjectivity_mean'] = humans['subjectivity'].mean()\n",
    "\n",
    "#         dic['subjectivity_std'] = df['subjectivity'].std()\n",
    "#         dic['bots_subjectivity_std'] = bots['subjectivity'].std()\n",
    "#         dic['humans_subjectivity_std'] = humans['subjectivity'].std()\n",
    "\n",
    "        dic['SentiStrength_mean'] = df['SentiStrength'].mean()\n",
    "        dic['bots_SentiStrength_mean'] = bots['SentiStrength'].mean()\n",
    "        dic['humans_SentiStrength_mean'] = humans['SentiStrength'].mean()\n",
    "\n",
    "        dic['SentiStrength_std'] = df['SentiStrength'].std()\n",
    "        dic['bots_SentiStrength_std'] = bots['SentiStrength'].std()\n",
    "        dic['humans_SentiStrength_std'] = humans['SentiStrength'].std()\n",
    "        \n",
    "    return dic"
   ]
  },
  {
   "cell_type": "code",
   "execution_count": 9,
   "metadata": {},
   "outputs": [],
   "source": [
    "res = df.groupby(colname).apply(get_info)"
   ]
  },
  {
   "cell_type": "code",
   "execution_count": 10,
   "metadata": {},
   "outputs": [],
   "source": [
    "n_res = pd.DataFrame.from_records(res.reset_index(drop=True).values)"
   ]
  },
  {
   "cell_type": "code",
   "execution_count": 11,
   "metadata": {},
   "outputs": [],
   "source": [
    "n_res['ID'] = res.index"
   ]
  },
  {
   "cell_type": "code",
   "execution_count": 12,
   "metadata": {},
   "outputs": [],
   "source": [
    "fname = \"retweet_cascade\""
   ]
  },
  {
   "cell_type": "code",
   "execution_count": 13,
   "metadata": {},
   "outputs": [],
   "source": [
    "n_res[['bot_percentage', 'bot_percentage_10', 'bot_percentage_25', 'bot_percentage_5']] = n_res[['bot_percentage', 'bot_percentage_10', 'bot_percentage_25', 'bot_percentage_5']] * 100"
   ]
  },
  {
   "cell_type": "code",
   "execution_count": 14,
   "metadata": {},
   "outputs": [],
   "source": [
    "n_res.to_csv('metrics_{}.csv'.format(fname), index=None)"
   ]
  },
  {
   "cell_type": "code",
   "execution_count": null,
   "metadata": {},
   "outputs": [],
   "source": []
  }
 ],
 "metadata": {
  "anaconda-cloud": {},
  "kernelspec": {
   "display_name": "Python [conda env:anaconda3]",
   "language": "python",
   "name": "conda-env-anaconda3-py"
  },
  "language_info": {
   "codemirror_mode": {
    "name": "ipython",
    "version": 3
   },
   "file_extension": ".py",
   "mimetype": "text/x-python",
   "name": "python",
   "nbconvert_exporter": "python",
   "pygments_lexer": "ipython3",
   "version": "3.5.6"
  }
 },
 "nbformat": 4,
 "nbformat_minor": 1
}
