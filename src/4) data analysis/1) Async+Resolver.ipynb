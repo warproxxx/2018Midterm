{
 "cells": [
  {
   "cell_type": "code",
   "execution_count": 78,
   "metadata": {},
   "outputs": [],
   "source": [
    "import asyncio\n",
    "from aiohttp import ClientSession\n",
    "import pandas as pd\n",
    "from urllib.parse import urlparse"
   ]
  },
  {
   "cell_type": "code",
   "execution_count": 97,
   "metadata": {
    "collapsed": true
   },
   "outputs": [],
   "source": [
    "all_urls = pd.read_csv('urls.csv')['url'].values\n",
    "all_urls_with_port = []\n",
    "\n",
    "for url in all_urls:\n",
    "    parsed = urlparse(url)\n",
    "    if parsed.scheme == \"https\":\n",
    "        replaced = parsed._replace(netloc=parsed.netloc + \":443\")\n",
    "    else:\n",
    "        replaced = parsed._replace(netloc=parsed.netloc + \":80\")\n",
    "        \n",
    "    all_urls_with_port.append(replaced.geturl())"
   ]
  },
  {
   "cell_type": "code",
   "execution_count": 102,
   "metadata": {
    "collapsed": true
   },
   "outputs": [],
   "source": [
    "async def fetch(url, session):\n",
    "    async with session.head(url, allow_redirects=True) as response:\n",
    "        return response.url"
   ]
  },
  {
   "cell_type": "code",
   "execution_count": 103,
   "metadata": {
    "collapsed": true
   },
   "outputs": [],
   "source": [
    "async def bound_fetch(sem, url, session):\n",
    "    # Getter function with semaphore.\n",
    "    async with sem:\n",
    "        await fetch(url, session)"
   ]
  },
  {
   "cell_type": "code",
   "execution_count": 104,
   "metadata": {
    "collapsed": true
   },
   "outputs": [],
   "source": [
    "async def run(r):\n",
    "    global all_urls\n",
    "    tasks = []\n",
    "    # create instance of Semaphore\n",
    "    sem = asyncio.Semaphore(1000)\n",
    "\n",
    "    # Create client session that will ensure we dont open new connection\n",
    "    # per each request.\n",
    "    async with ClientSession() as session:\n",
    "        for i in range(r):\n",
    "            # pass Semaphore and session to every GET request\n",
    "            task = asyncio.ensure_future(bound_fetch(sem, all_urls_with_port[i], session))\n",
    "            tasks.append(task)\n",
    "\n",
    "        responses = asyncio.gather(*tasks)\n",
    "        await responses"
   ]
  },
  {
   "cell_type": "code",
   "execution_count": null,
   "metadata": {
    "scrolled": true
   },
   "outputs": [],
   "source": [
    "number = 10000\n",
    "loop = asyncio.get_event_loop()\n",
    "\n",
    "future = asyncio.ensure_future(run(number))\n",
    "loop.run_until_complete(future)"
   ]
  },
  {
   "cell_type": "code",
   "execution_count": null,
   "metadata": {
    "collapsed": true
   },
   "outputs": [],
   "source": []
  },
  {
   "cell_type": "code",
   "execution_count": null,
   "metadata": {
    "collapsed": true
   },
   "outputs": [],
   "source": []
  }
 ],
 "metadata": {
  "anaconda-cloud": {},
  "kernelspec": {
   "display_name": "Python [conda env:anaconda3]",
   "language": "python",
   "name": "conda-env-anaconda3-py"
  },
  "language_info": {
   "codemirror_mode": {
    "name": "ipython",
    "version": 3
   },
   "file_extension": ".py",
   "mimetype": "text/x-python",
   "name": "python",
   "nbconvert_exporter": "python",
   "pygments_lexer": "ipython3",
   "version": "3.5.6"
  }
 },
 "nbformat": 4,
 "nbformat_minor": 1
}
