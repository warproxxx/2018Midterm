{
 "cells": [
  {
   "cell_type": "code",
   "execution_count": 190,
   "metadata": {},
   "outputs": [],
   "source": [
    "import pandas as pd\n",
    "import numpy as np\n",
    "import re\n",
    "import json"
   ]
  },
  {
   "cell_type": "code",
   "execution_count": 141,
   "metadata": {},
   "outputs": [],
   "source": [
    "senate = pd.read_csv('senate_seat_forecast.csv')\n",
    "senate = senate[senate['model'] == 'classic']\n",
    "senate = senate[senate['forecastdate'] == '2018-10-29']\n",
    "senate['location'] = senate['state'].map(str) + '-' + senate['class'].map(str)\n",
    "senate = senate.drop(['state', 'class'], axis=1)\n",
    "\n",
    "repulicans = senate[senate['party'] == 'R']\n",
    "leans_republican = repulicans[(repulicans['win_probability'] >= 0.6) & (repulicans['win_probability'] < 0.95)]['location'].values\n",
    "\n",
    "democrats = senate[senate['party'] == 'D']\n",
    "leans_democrat = democrats[(democrats['win_probability'] >= 0.6) & (democrats['win_probability'] < 0.95)]['location'].values\n",
    "\n",
    "low_probablities = senate[senate['win_probability'] < 0.6]\n",
    "sum_locations = low_probablities.groupby('location').sum()\n",
    "tossups = sum_locations[sum_locations['win_probability'] == 1]\n",
    "tossups = tossups.index.values\n",
    "\n",
    "required_locations = np.concatenate((leans_republican, leans_democrat, tossups), axis=0)\n",
    "required_locations = senate[senate['location'].isin(required_locations)]\n",
    "\n",
    "senate_required = required_locations[required_locations['win_probability'] != 0].reset_index()\n",
    "\n",
    "senate_required.to_csv('senate_required.csv')"
   ]
  },
  {
   "cell_type": "code",
   "execution_count": 179,
   "metadata": {},
   "outputs": [],
   "source": [
    "senate_candidates_only = senate_required['candidate'].str.lower().map(lambda x: re.sub(r'\\W+', ' ', x))\n",
    "senate_candidates_only.to_csv(\"senate_candidates.csv\")"
   ]
  },
  {
   "cell_type": "code",
   "execution_count": 154,
   "metadata": {},
   "outputs": [],
   "source": [
    "house = pd.read_csv('house_district_forecast.csv')\n",
    "house = house[house['model'] == 'classic']\n",
    "house = house[house['forecastdate'] == '2018-10-29']\n",
    "house['location'] = house['state'].map(str) + '-' + house['district'].map(str)\n",
    "house = house.drop(['state', 'district'], axis=1)\n",
    "\n",
    "repulicans = house[house['party'] == 'R']\n",
    "leans_republican = repulicans[(repulicans['win_probability'] >= 0.6) & (repulicans['win_probability'] < 0.75)]['location'].values\n",
    "\n",
    "democrats = house[house['party'] == 'D']\n",
    "leans_democrat = democrats[(democrats['win_probability'] >= 0.6) & (democrats['win_probability'] < 0.75)]['location'].values\n",
    "\n",
    "low_probablities = senate[senate['win_probability'] < 0.6]\n",
    "sum_locations = low_probablities.groupby('location').sum()\n",
    "tossups = sum_locations[sum_locations['win_probability'] == 1]\n",
    "tossups = tossups.index.values\n",
    "\n",
    "required_locations = np.concatenate((leans_republican, leans_democrat, tossups), axis=0)\n",
    "required_locations = house[house['location'].isin(required_locations)]\n",
    "\n",
    "house_required = required_locations[required_locations['win_probability'] != 0].reset_index()\n",
    "\n",
    "house_required.to_csv('house_required.csv')"
   ]
  },
  {
   "cell_type": "code",
   "execution_count": 180,
   "metadata": {},
   "outputs": [],
   "source": [
    "house_candidates_only = house_required['candidate'].str.lower().map(lambda x: re.sub(r'\\W+', ' ', x))\n",
    "house_candidates_only.to_csv(\"house_candidates.csv\")"
   ]
  },
  {
   "cell_type": "code",
   "execution_count": 217,
   "metadata": {},
   "outputs": [],
   "source": [
    "manual_keywords = [\"2018Midterms\",\"2018MidtermElections\",\"Election2018\",\"ElectionDay\",\"MAGA2018\",\"MAGA\",\"Trump2020\",\"AmericaFirst\",\"TheResistance\",\"resist\",\"VoteThemOut\",\"2018Senate\",\"VoteRed\",\"Voteblue\",\"WalkAwayFromDemocrats2018\",\"WalkAwayFromRepublicans2018\",\"VOTE\",\"GAEarlyVoting\",\"EarlyVoting\",\"plus1\",\"IVoted\",\"WinBlue\",\"WinRed\",\"BlueWave\",\"RedWave\",\"republican2018\",\"democrat2018\",\"Republican\",\"Democrat\"]\n",
    "house_keywords = list(house_candidates_only)\n",
    "senate_keywords = list(senate_candidates_only)"
   ]
  },
  {
   "cell_type": "code",
   "execution_count": 218,
   "metadata": {},
   "outputs": [],
   "source": [
    "keywords = {}\n",
    "\n",
    "keywords['manual'] = {}\n",
    "keywords['house'] = {}\n",
    "keywords['senate'] = {}\n",
    "\n",
    "keywords['manual']['start_date'] = \"2018-10-28\"\n",
    "keywords['house']['start_date'] = \"2018-10-28\"\n",
    "keywords['senate']['start_date'] = \"2018-10-28\"\n",
    "\n",
    "keywords['manual']['keywords'] = str(manual_keywords).replace('\"', '')\n",
    "keywords['house']['keywords'] = str(house_keywords).replace('\"', '')\n",
    "keywords['senate']['keywords'] = str(senate_keywords).replace('\"', '')"
   ]
  },
  {
   "cell_type": "code",
   "execution_count": 219,
   "metadata": {},
   "outputs": [
    {
     "data": {
      "text/plain": [
       "{'manual': {'start_date': '2018-10-28',\n",
       "  'keywords': \"['2018Midterms', '2018MidtermElections', 'Election2018', 'ElectionDay', 'MAGA2018', 'MAGA', 'Trump2020', 'AmericaFirst', 'TheResistance', 'resist', 'VoteThemOut', '2018Senate', 'VoteRed', 'Voteblue', 'WalkAwayFromDemocrats2018', 'WalkAwayFromRepublicans2018', 'VOTE', 'GAEarlyVoting', 'EarlyVoting', 'plus1', 'IVoted', 'WinBlue', 'WinRed', 'BlueWave', 'RedWave', 'republican2018', 'democrat2018', 'Republican', 'Democrat']\"},\n",
       " 'house': {'start_date': '2018-10-28',\n",
       "  'keywords': \"['don young', 'alyse s galvin', 'katie hill', 'steve knight', 'katie porter', 'mimi walters', 'harley rouda', 'dana rohrabacher', 'michael waltz', 'nancy soderberg', 'mario diaz balart', 'mary barzee flores', 'karen c handel', 'lucy mcbath', 'cindy axne', 'david young', 'mike bost', 'brendan kelly', 'rodney davis', 'betsy dirksen londrigan', 'randy hultgren', 'lauren underwood', 'jared golden', 'bruce poliquin', 'william lacy clay jr ', 'greg gianforte', 'kathleen williams', 'george holding', 'linda coleman', 'ted budd', 'kathy manning', 'don bacon', 'kara eastman', 'tom malinowski', 'leonard lance', 'dina titus', 'joyce bentley', 'susie lee', 'danny tarkanian', 'pete king', 'liuba grechen shirley', 'chris collins', 'nate mcmurray', 'troy balderson', 'danny o connor', 'scott perry', 'george scott', 'pete sessions', 'colin allred', 'scott taylor', 'elaine luria', 'jaime herrera beutler', 'carolyn long']\"},\n",
       " 'senate': {'start_date': '2018-10-28',\n",
       "  'keywords': \"['kyrsten sinema', 'martha mcsally', 'bill nelson', 'rick scott', 'joe donnelly', 'mike braun', 'tina smith', 'karin housley', 'claire mccaskill', 'josh hawley', 'cindy hyde smith', 'mike espy', 'chris mcdaniel', 'jon tester', 'matt rosendale', 'kevin cramer', 'heidi heitkamp', 'robert menendez', 'bob hugin', 'dean heller', 'jacky rosen', 'marsha blackburn', 'phil bredesen', 'ted cruz', 'beto o rourke', 'joe manchin iii', 'patrick morrisey']\"}}"
      ]
     },
     "execution_count": 219,
     "metadata": {},
     "output_type": "execute_result"
    }
   ],
   "source": [
    "keywords"
   ]
  },
  {
   "cell_type": "code",
   "execution_count": 208,
   "metadata": {},
   "outputs": [],
   "source": [
    "with open('keywords.txt', 'w') as outfile:\n",
    "    json.dump(keywords, outfile)\n",
    "    \n",
    "#manual modifications done"
   ]
  }
 ],
 "metadata": {
  "kernelspec": {
   "display_name": "Python 3.7",
   "language": "python",
   "name": "python3.7"
  },
  "language_info": {
   "codemirror_mode": {
    "name": "ipython",
    "version": 3
   },
   "file_extension": ".py",
   "mimetype": "text/x-python",
   "name": "python",
   "nbconvert_exporter": "python",
   "pygments_lexer": "ipython3",
   "version": "3.7.1"
  }
 },
 "nbformat": 4,
 "nbformat_minor": 2
}
