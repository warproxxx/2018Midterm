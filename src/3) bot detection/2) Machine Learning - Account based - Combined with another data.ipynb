{
 "cells": [
  {
   "cell_type": "code",
   "execution_count": 1,
   "metadata": {
    "collapsed": false
   },
   "outputs": [
    {
     "name": "stderr",
     "output_type": "stream",
     "text": [
      "Using TensorFlow backend.\n"
     ]
    }
   ],
   "source": [
    "import pandas as pd\n",
    "import numpy as np\n",
    "\n",
    "from keras.layers import Embedding, Dense, LSTM, Dense, Input, concatenate\n",
    "from keras.models import Model, load_model\n",
    "from keras.utils import plot_model\n",
    "\n",
    "from keras.preprocessing.text import Tokenizer\n",
    "from keras.preprocessing.sequence import pad_sequences"
   ]
  },
  {
   "cell_type": "code",
   "execution_count": 2,
   "metadata": {
    "collapsed": true
   },
   "outputs": [],
   "source": [
    "def get_accuracy(AL, y):\n",
    "    AL = AL.reshape(-1)\n",
    "    y = y.reshape(-1)\n",
    "    \n",
    "    AL = AL > 0.5\n",
    "    AL = AL.astype(int)\n",
    "    \n",
    "    total = AL.shape[0]\n",
    "    \n",
    "    TP = np.sum(np.logical_and(AL==1, y==1))\n",
    "    TN = np.sum(np.logical_and(AL==0, y==0))\n",
    "\n",
    "    FP = np.sum(np.logical_and(AL==1, y==0))\n",
    "    FN = np.sum(np.logical_and(AL==0, y==1))\n",
    "\n",
    "    P = TP / (TP + FP)\n",
    "    R = TP / (TP + TN)\n",
    "    F1 = (2 * P * R) / (P + R)\n",
    "\n",
    "\n",
    "    acc = np.sum(AL == y)/total\n",
    "\n",
    "\n",
    "    print(\"\\nAccuracy: {} \\n\".format(acc))\n",
    "    print(\"True Positive: {} \\nTrue Negative: {}\\nFalse Positive: {} \\nFalse Negative: {}\\n\".format(TP, TN, FP, FN))\n",
    "    print(\"Precision: {} \\nRecall: {} \\nF1 Score: {}\\n\".format(P, R, F1))"
   ]
  },
  {
   "cell_type": "code",
   "execution_count": 19,
   "metadata": {
    "collapsed": false
   },
   "outputs": [],
   "source": [
    "df = pd.read_csv('../../../data/collection_data/profile/storage/raw/userData.csv')\n",
    "bot_accounts = pd.read_csv('bots.csv')\n",
    "clean_accounts = pd.read_csv('users.csv')"
   ]
  },
  {
   "cell_type": "code",
   "execution_count": 20,
   "metadata": {
    "collapsed": true
   },
   "outputs": [],
   "source": [
    "df['username'] = df['username'].str.lower()\n",
    "bot_accounts['username'] = bot_accounts['username'].str.lower()"
   ]
  },
  {
   "cell_type": "code",
   "execution_count": 21,
   "metadata": {
    "collapsed": true
   },
   "outputs": [],
   "source": [
    "bot_details = df[df['username'].isin(bot_accounts['username'])]\n",
    "bot_details = bot_details.reset_index(drop=True)\n",
    "\n",
    "clean_details = df[df['username'].isin(clean_accounts['username'])]\n",
    "clean_details = clean_details.reset_index(drop=True)\n",
    "clean_details = clean_details[:bot_details.shape[0]]\n",
    "\n",
    "bot_details['BotOrNot'] = 1\n",
    "clean_details['BotOrNot'] = 0\n",
    "\n",
    "combined_df = clean_details.append(bot_details, ignore_index=True)\n",
    "\n",
    "new_df = combined_df.sample(frac=1).reset_index(drop=True)\n",
    "new_df['created'] = pd.to_datetime(new_df['created'])\n",
    "new_df['age'] = (pd.Timestamp.today() - new_df['created']).apply(lambda x: x.days)"
   ]
  },
  {
   "cell_type": "code",
   "execution_count": 22,
   "metadata": {
    "collapsed": false
   },
   "outputs": [],
   "source": [
    "combined_df = combined_df.drop_duplicates().reset_index(drop=True)"
   ]
  },
  {
   "cell_type": "code",
   "execution_count": 23,
   "metadata": {
    "collapsed": true
   },
   "outputs": [],
   "source": [
    "new_df = new_df[['username', 'age', 'has_location', 'is_verified', 'total_tweets', 'total_following', 'total_followers', 'total_likes', 'has_avatar', 'has_background', 'is_protected', 'profile_modified', 'BotOrNot']]\n",
    "bot_df = new_df[new_df['BotOrNot'] == 1].reset_index(drop=True)\n",
    "human_df = new_df[new_df['BotOrNot'] == 0][:bot_df.shape[0]]\n",
    "new_df = pd.concat([bot_df, human_df]).reset_index(drop=True)\n",
    "new_df = new_df.sample(frac=1).reset_index(drop=True)"
   ]
  },
  {
   "cell_type": "code",
   "execution_count": 38,
   "metadata": {
    "collapsed": true
   },
   "outputs": [],
   "source": [
    "cersi_df = pd.read_csv('Twitter-Bot-or-Not/cersi_processed.csv')[:2000]"
   ]
  },
  {
   "cell_type": "code",
   "execution_count": 39,
   "metadata": {
    "collapsed": true
   },
   "outputs": [],
   "source": [
    "training_df = new_df.drop('username', axis=1)[:int(new_df.shape[0] * 0.8)]\n",
    "test_df = new_df.drop('username', axis=1)[int(new_df.shape[0] * 0.8):]"
   ]
  },
  {
   "cell_type": "code",
   "execution_count": 40,
   "metadata": {
    "collapsed": false
   },
   "outputs": [],
   "source": [
    "training_df = pd.concat([training_df, cersi_df.drop('username', axis=1)])"
   ]
  },
  {
   "cell_type": "code",
   "execution_count": 41,
   "metadata": {
    "collapsed": true
   },
   "outputs": [],
   "source": [
    "columns_to_standardize = ['age', 'total_tweets', 'total_following', 'total_followers', 'total_likes']\n",
    "\n",
    "training_df_mean = training_df[columns_to_standardize].mean()\n",
    "training_df_std = training_df[columns_to_standardize].std()\n",
    "\n",
    "training_df[columns_to_standardize] = (training_df[columns_to_standardize] - training_df_mean)/training_df_std\n",
    "test_df[columns_to_standardize] = (test_df[columns_to_standardize] - training_df_mean)/training_df_std\n",
    "\n",
    "# training_df_mean = training_df.mean()\n",
    "# training_df_std = training_df.std()\n",
    "\n",
    "# training_df = (training_df - training_df_mean)/training_df_std\n",
    "# test_df = (test_df - training_df_mean)/training_df_std\n",
    "\n",
    "# max_vals = training_df.max()\n",
    "\n",
    "# training_df = training_df/max_vals\n",
    "# test_df = test_df/max_vals"
   ]
  },
  {
   "cell_type": "code",
   "execution_count": 42,
   "metadata": {
    "collapsed": true
   },
   "outputs": [],
   "source": [
    "X_train = training_df.drop(['BotOrNot', 'is_protected'], axis=1).values\n",
    "y_train = training_df['BotOrNot'].values.reshape(-1,1)\n",
    "\n",
    "X_test = test_df.drop(['BotOrNot', 'is_protected'], axis=1).values\n",
    "y_test = test_df['BotOrNot'].values.reshape(-1,1)"
   ]
  },
  {
   "cell_type": "code",
   "execution_count": 43,
   "metadata": {
    "collapsed": false,
    "scrolled": true
   },
   "outputs": [
    {
     "name": "stdout",
     "output_type": "stream",
     "text": [
      "\n",
      "Accuracy: 0.6460650128314799 \n",
      "\n",
      "True Positive: 1764 \n",
      "True Negative: 1257\n",
      "False Positive: 916 \n",
      "False Negative: 739\n",
      "\n",
      "Precision: 0.6582089552238806 \n",
      "Recall: 0.5839126117179742 \n",
      "F1 Score: 0.6188388002104893\n",
      "\n",
      "\n",
      "Accuracy: 0.6746268656716418 \n",
      "\n",
      "True Positive: 171 \n",
      "True Negative: 281\n",
      "False Positive: 52 \n",
      "False Negative: 166\n",
      "\n",
      "Precision: 0.7668161434977578 \n",
      "Recall: 0.37831858407079644 \n",
      "F1 Score: 0.5066666666666666\n",
      "\n",
      "Train on 4676 samples, validate on 670 samples\n",
      "Epoch 1/20\n",
      "4676/4676 [==============================] - 1s 128us/step - loss: 0.4647 - acc: 0.8037 - val_loss: 0.4416 - val_acc: 0.8104\n",
      "Epoch 2/20\n",
      "4676/4676 [==============================] - 0s 96us/step - loss: 0.3552 - acc: 0.8467 - val_loss: 0.4185 - val_acc: 0.8060\n",
      "Epoch 3/20\n",
      "4676/4676 [==============================] - 0s 81us/step - loss: 0.3404 - acc: 0.8541 - val_loss: 0.4243 - val_acc: 0.8090\n",
      "Epoch 4/20\n",
      "4676/4676 [==============================] - 0s 79us/step - loss: 0.3303 - acc: 0.8593 - val_loss: 0.4484 - val_acc: 0.7806\n",
      "Epoch 5/20\n",
      "4676/4676 [==============================] - 0s 80us/step - loss: 0.3179 - acc: 0.8683 - val_loss: 0.4332 - val_acc: 0.8090\n",
      "Epoch 6/20\n",
      "4676/4676 [==============================] - 0s 79us/step - loss: 0.3121 - acc: 0.8646 - val_loss: 0.4116 - val_acc: 0.8045\n",
      "Epoch 7/20\n",
      "4676/4676 [==============================] - 0s 94us/step - loss: 0.3086 - acc: 0.8672 - val_loss: 0.4222 - val_acc: 0.8104\n",
      "Epoch 8/20\n",
      "4676/4676 [==============================] - 0s 84us/step - loss: 0.3023 - acc: 0.8725 - val_loss: 0.4434 - val_acc: 0.7896\n",
      "Epoch 9/20\n",
      "4676/4676 [==============================] - 0s 79us/step - loss: 0.3006 - acc: 0.8700 - val_loss: 0.3984 - val_acc: 0.8119\n",
      "Epoch 10/20\n",
      "4676/4676 [==============================] - 0s 82us/step - loss: 0.2922 - acc: 0.8740 - val_loss: 0.4140 - val_acc: 0.8134\n",
      "Epoch 11/20\n",
      "4676/4676 [==============================] - 0s 81us/step - loss: 0.2952 - acc: 0.8805 - val_loss: 0.4200 - val_acc: 0.8090\n",
      "Epoch 12/20\n",
      "4676/4676 [==============================] - 0s 83us/step - loss: 0.2865 - acc: 0.8805 - val_loss: 0.4096 - val_acc: 0.8179\n",
      "Epoch 13/20\n",
      "4676/4676 [==============================] - 0s 83us/step - loss: 0.2855 - acc: 0.8811 - val_loss: 0.4141 - val_acc: 0.8254\n",
      "Epoch 14/20\n",
      "4676/4676 [==============================] - 0s 87us/step - loss: 0.2824 - acc: 0.8815 - val_loss: 0.4102 - val_acc: 0.8104\n",
      "Epoch 15/20\n",
      "4676/4676 [==============================] - 0s 96us/step - loss: 0.2840 - acc: 0.8779 - val_loss: 0.3985 - val_acc: 0.8284\n",
      "Epoch 16/20\n",
      "4676/4676 [==============================] - 0s 87us/step - loss: 0.2833 - acc: 0.8847 - val_loss: 0.4136 - val_acc: 0.8164\n",
      "Epoch 17/20\n",
      "4676/4676 [==============================] - 0s 90us/step - loss: 0.2779 - acc: 0.8852 - val_loss: 0.4198 - val_acc: 0.8284\n",
      "Epoch 18/20\n",
      "4676/4676 [==============================] - 0s 89us/step - loss: 0.2740 - acc: 0.8830 - val_loss: 0.4249 - val_acc: 0.8149\n",
      "Epoch 19/20\n",
      "4676/4676 [==============================] - 0s 95us/step - loss: 0.2727 - acc: 0.8884 - val_loss: 0.4158 - val_acc: 0.8239\n",
      "Epoch 20/20\n",
      "4676/4676 [==============================] - 0s 83us/step - loss: 0.2795 - acc: 0.8843 - val_loss: 0.4280 - val_acc: 0.8239\n",
      "\n",
      "Accuracy: 0.886655260906758 \n",
      "\n",
      "True Positive: 2187 \n",
      "True Negative: 1959\n",
      "False Positive: 214 \n",
      "False Negative: 316\n",
      "\n",
      "Precision: 0.9108704706372345 \n",
      "Recall: 0.5274963820549927 \n",
      "F1 Score: 0.6680922559951121\n",
      "\n",
      "\n",
      "Accuracy: 0.8238805970149253 \n",
      "\n",
      "True Positive: 257 \n",
      "True Negative: 295\n",
      "False Positive: 38 \n",
      "False Negative: 80\n",
      "\n",
      "Precision: 0.8711864406779661 \n",
      "Recall: 0.46557971014492755 \n",
      "F1 Score: 0.6068476977567887\n",
      "\n"
     ]
    }
   ],
   "source": [
    "cersi = load_model('cersi_2017.h5')\n",
    "ytrain_cersi = cersi.predict(X_train)\n",
    "get_accuracy(ytrain_cersi, y_train)\n",
    "\n",
    "\n",
    "ytest_cersi = cersi.predict(X_test)\n",
    "get_accuracy(ytest_cersi, y_test)\n",
    "\n",
    "cersi.fit(x=X_train, y=y_train, batch_size=16, epochs=20, validation_data=(X_test, y_test))\n",
    "\n",
    "ytrain_cersi = cersi.predict(X_train)\n",
    "get_accuracy(ytrain_cersi, y_train)\n",
    "\n",
    "\n",
    "ytest_cersi = cersi.predict(X_test)\n",
    "get_accuracy(ytest_cersi, y_test)"
   ]
  },
  {
   "cell_type": "code",
   "execution_count": 44,
   "metadata": {
    "collapsed": true
   },
   "outputs": [],
   "source": [
    "inp = Input(shape=[10])\n",
    "\n",
    "another = Dense(500, activation='relu')(inp)\n",
    "another = Dense(200, activation='relu')(another)\n",
    "another = Dense(1, activation='sigmoid')(another)\n",
    "\n",
    "mod = Model(inp, another)\n",
    "mod.compile(optimizer='adam', loss='binary_crossentropy', metrics=['accuracy'])"
   ]
  },
  {
   "cell_type": "code",
   "execution_count": 45,
   "metadata": {
    "collapsed": false
   },
   "outputs": [
    {
     "name": "stdout",
     "output_type": "stream",
     "text": [
      "Train on 4676 samples, validate on 670 samples\n",
      "Epoch 1/20\n",
      "4676/4676 [==============================] - 1s 110us/step - loss: 0.5010 - acc: 0.7483 - val_loss: 0.4864 - val_acc: 0.7761\n",
      "Epoch 2/20\n",
      "4676/4676 [==============================] - 0s 43us/step - loss: 0.4107 - acc: 0.8184 - val_loss: 0.4880 - val_acc: 0.7955\n",
      "Epoch 3/20\n",
      "4676/4676 [==============================] - 0s 45us/step - loss: 0.3838 - acc: 0.8313 - val_loss: 0.4298 - val_acc: 0.8075\n",
      "Epoch 4/20\n",
      "4676/4676 [==============================] - 0s 53us/step - loss: 0.3671 - acc: 0.8377 - val_loss: 0.4454 - val_acc: 0.8119\n",
      "Epoch 5/20\n",
      "4676/4676 [==============================] - 0s 50us/step - loss: 0.3594 - acc: 0.8450 - val_loss: 0.4255 - val_acc: 0.8090\n",
      "Epoch 6/20\n",
      "4676/4676 [==============================] - 0s 51us/step - loss: 0.3488 - acc: 0.8467 - val_loss: 0.4143 - val_acc: 0.8209\n",
      "Epoch 7/20\n",
      "4676/4676 [==============================] - 0s 48us/step - loss: 0.3420 - acc: 0.8527 - val_loss: 0.4151 - val_acc: 0.8164\n",
      "Epoch 8/20\n",
      "4676/4676 [==============================] - 0s 46us/step - loss: 0.3326 - acc: 0.8571 - val_loss: 0.4147 - val_acc: 0.8104\n",
      "Epoch 9/20\n",
      "4676/4676 [==============================] - 0s 43us/step - loss: 0.3259 - acc: 0.8608 - val_loss: 0.4170 - val_acc: 0.8000\n",
      "Epoch 10/20\n",
      "4676/4676 [==============================] - 0s 42us/step - loss: 0.3186 - acc: 0.8672 - val_loss: 0.3969 - val_acc: 0.8209\n",
      "Epoch 11/20\n",
      "4676/4676 [==============================] - 0s 49us/step - loss: 0.3262 - acc: 0.8576 - val_loss: 0.3907 - val_acc: 0.8119\n",
      "Epoch 12/20\n",
      "4676/4676 [==============================] - 0s 51us/step - loss: 0.3162 - acc: 0.8678 - val_loss: 0.4059 - val_acc: 0.8194\n",
      "Epoch 13/20\n",
      "4676/4676 [==============================] - 0s 48us/step - loss: 0.3154 - acc: 0.8646 - val_loss: 0.4039 - val_acc: 0.8224\n",
      "Epoch 14/20\n",
      "4676/4676 [==============================] - 0s 46us/step - loss: 0.3104 - acc: 0.8683 - val_loss: 0.3950 - val_acc: 0.8164\n",
      "Epoch 15/20\n",
      "4676/4676 [==============================] - 0s 45us/step - loss: 0.3001 - acc: 0.8766 - val_loss: 0.3988 - val_acc: 0.8269\n",
      "Epoch 16/20\n",
      "4676/4676 [==============================] - 0s 49us/step - loss: 0.3087 - acc: 0.8710 - val_loss: 0.3899 - val_acc: 0.8224\n",
      "Epoch 17/20\n",
      "4676/4676 [==============================] - 0s 47us/step - loss: 0.3081 - acc: 0.8672 - val_loss: 0.4326 - val_acc: 0.8030\n",
      "Epoch 18/20\n",
      "4676/4676 [==============================] - 0s 48us/step - loss: 0.2956 - acc: 0.8751 - val_loss: 0.4117 - val_acc: 0.8194\n",
      "Epoch 19/20\n",
      "4676/4676 [==============================] - 0s 46us/step - loss: 0.2928 - acc: 0.8809 - val_loss: 0.3901 - val_acc: 0.8284\n",
      "Epoch 20/20\n",
      "4676/4676 [==============================] - 0s 49us/step - loss: 0.2904 - acc: 0.8815 - val_loss: 0.4023 - val_acc: 0.8239\n"
     ]
    },
    {
     "data": {
      "text/plain": [
       "<keras.callbacks.History at 0x7f844a84a320>"
      ]
     },
     "execution_count": 45,
     "metadata": {},
     "output_type": "execute_result"
    }
   ],
   "source": [
    "mod.fit(x=X_train, y=y_train, batch_size=32, epochs=20, validation_data=(X_test, y_test))"
   ]
  },
  {
   "cell_type": "code",
   "execution_count": 46,
   "metadata": {
    "collapsed": false
   },
   "outputs": [
    {
     "name": "stdout",
     "output_type": "stream",
     "text": [
      "\n",
      "Accuracy: 0.8714713430282293 \n",
      "\n",
      "True Positive: 2270 \n",
      "True Negative: 1805\n",
      "False Positive: 368 \n",
      "False Negative: 233\n",
      "\n",
      "Precision: 0.8605003790750568 \n",
      "Recall: 0.5570552147239264 \n",
      "F1 Score: 0.6762997169670788\n",
      "\n",
      "\n",
      "Accuracy: 0.8238805970149253 \n",
      "\n",
      "True Positive: 278 \n",
      "True Negative: 274\n",
      "False Positive: 59 \n",
      "False Negative: 59\n",
      "\n",
      "Precision: 0.8249258160237388 \n",
      "Recall: 0.5036231884057971 \n",
      "F1 Score: 0.6254218222722159\n",
      "\n"
     ]
    }
   ],
   "source": [
    "ytrain_mod = mod.predict(X_train)\n",
    "get_accuracy(ytrain_mod, y_train)\n",
    "\n",
    "\n",
    "ytest_mod = mod.predict(X_test)\n",
    "get_accuracy(ytest_mod, y_test)"
   ]
  },
  {
   "cell_type": "code",
   "execution_count": null,
   "metadata": {
    "collapsed": true
   },
   "outputs": [],
   "source": [
    "#need to fix the cleaners"
   ]
  }
 ],
 "metadata": {
  "anaconda-cloud": {},
  "kernelspec": {
   "display_name": "Python [conda env:anaconda3]",
   "language": "python",
   "name": "conda-env-anaconda3-py"
  },
  "language_info": {
   "codemirror_mode": {
    "name": "ipython",
    "version": 3
   },
   "file_extension": ".py",
   "mimetype": "text/x-python",
   "name": "python",
   "nbconvert_exporter": "python",
   "pygments_lexer": "ipython3",
   "version": "3.5.4"
  }
 },
 "nbformat": 4,
 "nbformat_minor": 2
}
