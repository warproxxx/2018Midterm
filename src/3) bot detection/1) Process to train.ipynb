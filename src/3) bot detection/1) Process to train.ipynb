{
 "cells": [
  {
   "cell_type": "code",
   "execution_count": 3,
   "metadata": {
    "collapsed": true
   },
   "outputs": [],
   "source": [
    "import pandas as pd"
   ]
  },
  {
   "cell_type": "code",
   "execution_count": 146,
   "metadata": {
    "collapsed": true
   },
   "outputs": [],
   "source": [
    "bot_threshold = 0.5\n",
    "user_threshold = 0.3\n",
    "# ratio = 3"
   ]
  },
  {
   "cell_type": "code",
   "execution_count": 147,
   "metadata": {
    "collapsed": true
   },
   "outputs": [],
   "source": [
    "def load_data():\n",
    "    '''\n",
    "    Returns:\n",
    "    ________\n",
    "    \n",
    "    df (pandas dataframe):\n",
    "    Dataframe containing userinfo\n",
    "    \n",
    "    users_bots (pandas dataframe):\n",
    "    dataframe containing score from botometer\n",
    "    '''\n",
    "    \n",
    "    users_bots = pd.read_csv('username_botometer.csv')\n",
    "    df = pd.read_csv('../../data/profiles_in_tweets.csv')\n",
    "    election_accounts = pd.read_csv('../../data/collection_data/profile/extractedUsers.csv')\n",
    "    election_accounts.columns = ['username']\n",
    "\n",
    "    election_accounts['username'] = election_accounts['username'].str.lower()\n",
    "    df['username'] = df['username'].str.lower()\n",
    "    users_bots['username'] = users_bots['username'].str.lower()\n",
    "    \n",
    "    users_bots = users_bots[users_bots['username'].isin(election_accounts['username'])].reset_index(drop=True)\n",
    "    df = df[df['username'].isin(election_accounts['username'])].reset_index(drop=True)\n",
    "    \n",
    "    return df, users_bots"
   ]
  },
  {
   "cell_type": "code",
   "execution_count": 148,
   "metadata": {
    "collapsed": false
   },
   "outputs": [],
   "source": [
    "df, users_bots = load_data()"
   ]
  },
  {
   "cell_type": "code",
   "execution_count": 149,
   "metadata": {
    "collapsed": true
   },
   "outputs": [],
   "source": [
    "def apply_threshold(users_bots, bot_threshold, user_threshold):\n",
    "    '''\n",
    "    Parameters:\n",
    "    ___________\n",
    "    \n",
    "    users_bots (pandas dataframe):\n",
    "    Dataframe containing username and botometer score\n",
    "    \n",
    "    bot_threshold (float):\n",
    "    Threshold above which we will classify as bot during training\n",
    "    \n",
    "    user_threshold (float):\n",
    "    Threshold below which we will classify as humans during training\n",
    "    \n",
    "    Returns:\n",
    "    ________\n",
    "    bot_accounts, clean_accounts\n",
    "    '''\n",
    "    bot_accounts = users_bots[users_bots['botometer'] > bot_threshold].reset_index(drop=True)\n",
    "    clean_accounts = users_bots[users_bots['botometer'] < user_threshold].reset_index(drop=True)\n",
    "    return bot_accounts, clean_accounts"
   ]
  },
  {
   "cell_type": "code",
   "execution_count": 150,
   "metadata": {
    "collapsed": false
   },
   "outputs": [],
   "source": [
    "bot_accounts, clean_accounts = apply_threshold(users_bots, bot_threshold, user_threshold)"
   ]
  },
  {
   "cell_type": "code",
   "execution_count": 151,
   "metadata": {
    "collapsed": false
   },
   "outputs": [
    {
     "data": {
      "text/plain": [
       "(1583, 2)"
      ]
     },
     "execution_count": 151,
     "metadata": {},
     "output_type": "execute_result"
    }
   ],
   "source": [
    "bot_accounts.shape"
   ]
  },
  {
   "cell_type": "code",
   "execution_count": 152,
   "metadata": {
    "collapsed": false
   },
   "outputs": [
    {
     "name": "stdout",
     "output_type": "stream",
     "text": [
      "Combined Details: (27869, 12)\n",
      "Bot Details: (513, 12)\n",
      "Clean Details: (27356, 12)\n"
     ]
    }
   ],
   "source": [
    "#Remove any duplicates if they exist here but this function is too big\n",
    "bot_details = df[df['username'].isin(bot_accounts['username'])]\n",
    "bot_details = bot_details.reset_index(drop=True)\n",
    "\n",
    "clean_details = df[df['username'].isin(clean_accounts['username'])]\n",
    "clean_details = clean_details.reset_index(drop=True)\n",
    "# clean_details = clean_details[:int(bot_details.shape[0] * ratio)]\n",
    "\n",
    "bot_details['BotOrNot'] = 1\n",
    "clean_details['BotOrNot'] = 0\n",
    "\n",
    "combined_df = clean_details.append(bot_details, ignore_index=True)\n",
    "\n",
    "combined_df = combined_df.drop_duplicates()\n",
    "\n",
    "print(\"Combined Details: {}\".format(combined_df.shape))\n",
    "print(\"Bot Details: {}\".format(bot_details.shape))\n",
    "print(\"Clean Details: {}\".format(clean_details.shape))\n",
    "\n",
    "new_df = combined_df.sample(frac=1).reset_index(drop=True)\n",
    "bot_df = new_df[new_df['BotOrNot'] == 1].reset_index(drop=True)\n",
    "human_df = new_df[new_df['BotOrNot'] == 0]\n",
    "new_df = pd.concat([bot_df, human_df]).reset_index(drop=True)\n",
    "new_df = new_df.sample(frac=1).reset_index(drop=True)\n",
    "# new_df = new_df.sample(frac=1).reset_index(drop=True)\n",
    "\n",
    "# training_df = new_df.drop('username', axis=1)\n",
    "# test_df = test_df.drop('username', axis=1)"
   ]
  },
  {
   "cell_type": "code",
   "execution_count": 163,
   "metadata": {
    "collapsed": false
   },
   "outputs": [],
   "source": [
    "split = int(new_df.shape[0] * .95)"
   ]
  },
  {
   "cell_type": "code",
   "execution_count": 164,
   "metadata": {
    "collapsed": false
   },
   "outputs": [],
   "source": [
    "train_df = new_df[:split]"
   ]
  },
  {
   "cell_type": "code",
   "execution_count": 165,
   "metadata": {
    "collapsed": true
   },
   "outputs": [],
   "source": [
    "test_df = new_df[split:]"
   ]
  },
  {
   "cell_type": "code",
   "execution_count": 166,
   "metadata": {
    "collapsed": false
   },
   "outputs": [],
   "source": [
    "train_df.to_csv('training_set.csv', index=None)"
   ]
  },
  {
   "cell_type": "code",
   "execution_count": 167,
   "metadata": {
    "collapsed": true
   },
   "outputs": [],
   "source": [
    "test_df.to_csv('test_set.csv', index=None)"
   ]
  },
  {
   "cell_type": "code",
   "execution_count": null,
   "metadata": {
    "collapsed": true
   },
   "outputs": [],
   "source": []
  }
 ],
 "metadata": {
  "anaconda-cloud": {},
  "kernelspec": {
   "display_name": "Python [conda env:anaconda3]",
   "language": "python",
   "name": "conda-env-anaconda3-py"
  },
  "language_info": {
   "codemirror_mode": {
    "name": "ipython",
    "version": 3
   },
   "file_extension": ".py",
   "mimetype": "text/x-python",
   "name": "python",
   "nbconvert_exporter": "python",
   "pygments_lexer": "ipython3",
   "version": "3.5.4"
  }
 },
 "nbformat": 4,
 "nbformat_minor": 1
}
